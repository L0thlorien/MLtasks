{
 "cells": [
  {
   "cell_type": "code",
   "execution_count": 1,
   "metadata": {},
   "outputs": [],
   "source": [
    "import pandas as pd\n",
    "import numpy as np\n",
    "import nltk\n",
    "import string\n",
    "from sklearn.metrics import precision_score\n",
    "from math import sqrt\n",
    "from sklearn.linear_model import SGDClassifier\n",
    "from sklearn.model_selection import train_test_split\n",
    "from sklearn.feature_extraction.text import CountVectorizer\n",
    "from sklearn.model_selection import GridSearchCV\n",
    "from sklearn.pipeline import Pipeline\n",
    "from sklearn.feature_extraction.text import TfidfVectorizer\n",
    "from sklearn.model_selection import cross_val_score"
   ]
  },
  {
   "cell_type": "code",
   "execution_count": 2,
   "metadata": {},
   "outputs": [
    {
     "name": "stdout",
     "output_type": "stream",
     "text": [
      "(94880, 9)\n",
      "(92997, 2)\n"
     ]
    },
    {
     "name": "stderr",
     "output_type": "stream",
     "text": [
      "C:\\Users\\dtd\\Anaconda3\\envs\\py36\\lib\\site-packages\\IPython\\core\\interactiveshell.py:2785: DtypeWarning: Columns (8) have mixed types. Specify dtype option on import or set low_memory=False.\n",
      "  interactivity=interactivity, compiler=compiler, result=result)\n"
     ]
    }
   ],
   "source": [
    "train_df = pd.read_csv('./train.csv', encoding='utf-8')\n",
    "print(train_df.shape)\n",
    "train_df = train_df.loc[ :,['name', 'isOrg']]\n",
    "train_df = train_df[(train_df['isOrg'] == 'True') | (train_df['isOrg'] == 'False')]\n",
    "print(train_df.shape)"
   ]
  },
  {
   "cell_type": "code",
   "execution_count": 3,
   "metadata": {},
   "outputs": [],
   "source": [
    "def remove_punctuation(line):\n",
    "    return \" \".join(\"\".join([\" \" if ch in string.punctuation else ch for ch in line]).split())\n",
    "\n",
    "train_df.name = train_df.name.apply(lambda x: remove_punctuation(str(x).lower()))"
   ]
  },
  {
   "cell_type": "code",
   "execution_count": 153,
   "metadata": {},
   "outputs": [],
   "source": [
    "train_df.name = train_df.name.apply(lambda x: str(x).lower())"
   ]
  },
  {
   "cell_type": "code",
   "execution_count": 154,
   "metadata": {},
   "outputs": [
    {
     "data": {
      "text/plain": [
       "True     86840\n",
       "False     6157\n",
       "Name: isOrg, dtype: int64"
      ]
     },
     "execution_count": 154,
     "metadata": {},
     "output_type": "execute_result"
    }
   ],
   "source": [
    "train_df.isOrg.value_counts()"
   ]
  },
  {
   "cell_type": "code",
   "execution_count": 139,
   "metadata": {},
   "outputs": [],
   "source": [
    "train_df['first_word'] = train_df['name'].apply(lambda x: x.split()[0]\n",
    "                                                if len(x) > 0 else [])"
   ]
  },
  {
   "cell_type": "code",
   "execution_count": 5,
   "metadata": {},
   "outputs": [],
   "source": [
    "X_train, X_test, y_train, y_test = train_test_split(train_df['name'], train_df.isOrg, test_size=0.2, \n",
    "                                                    random_state=666, stratify=train_df[\"isOrg\"])"
   ]
  },
  {
   "cell_type": "code",
   "execution_count": 69,
   "metadata": {},
   "outputs": [
    {
     "name": "stdout",
     "output_type": "stream",
     "text": [
      "Fitting 5 folds for each of 24 candidates, totalling 120 fits\n"
     ]
    },
    {
     "name": "stderr",
     "output_type": "stream",
     "text": [
      "[Parallel(n_jobs=-1)]: Done   2 tasks      | elapsed:    7.2s\n",
      "[Parallel(n_jobs=-1)]: Done   9 tasks      | elapsed:   12.8s\n",
      "[Parallel(n_jobs=-1)]: Done  16 tasks      | elapsed:   17.7s\n",
      "[Parallel(n_jobs=-1)]: Done  25 tasks      | elapsed:   21.0s\n",
      "[Parallel(n_jobs=-1)]: Done  34 tasks      | elapsed:   26.8s\n",
      "[Parallel(n_jobs=-1)]: Done  45 tasks      | elapsed:   31.9s\n",
      "[Parallel(n_jobs=-1)]: Done  56 tasks      | elapsed:   38.0s\n",
      "[Parallel(n_jobs=-1)]: Done  69 tasks      | elapsed:   44.1s\n",
      "[Parallel(n_jobs=-1)]: Done  82 tasks      | elapsed:   52.2s\n",
      "[Parallel(n_jobs=-1)]: Done  97 tasks      | elapsed:   59.7s\n",
      "[Parallel(n_jobs=-1)]: Done 118 out of 120 | elapsed:  1.2min remaining:    1.1s\n",
      "[Parallel(n_jobs=-1)]: Done 120 out of 120 | elapsed:  1.2min finished\n"
     ]
    }
   ],
   "source": [
    "tfidf_svm_pipeline = Pipeline([('tfidf', TfidfVectorizer()),\n",
    "                               ('svm', SGDClassifier(loss='hinge', penalty='l2', alpha=0.00001,\n",
    "                                                     random_state=666, max_iter=15, class_weight=None)),\n",
    "                               ])\n",
    "\n",
    "parameters_svm = {'tfidf__ngram_range': [(1, 1), (1, 2)],\n",
    "                  'tfidf__use_idf': (True, False),\n",
    "                  'svm__alpha': (1e-4, 1e-5, 1e-6),\n",
    "                  'svm__class_weight': (None, \"balanced\")\n",
    "                  }\n",
    "\n",
    "gs_svm = GridSearchCV(tfidf_svm_pipeline, parameters_svm, scoring=\"average_precision\", \n",
    "                      n_jobs=-1, cv=5, verbose=10, return_train_score=True)\n",
    "\n",
    "gs_svm = gs_svm.fit(X_train, y_train.apply(lambda x: 1 if x=='True' else 0))"
   ]
  },
  {
   "cell_type": "code",
   "execution_count": 70,
   "metadata": {
    "scrolled": true
   },
   "outputs": [
    {
     "data": {
      "text/html": [
       "<div>\n",
       "<style scoped>\n",
       "    .dataframe tbody tr th:only-of-type {\n",
       "        vertical-align: middle;\n",
       "    }\n",
       "\n",
       "    .dataframe tbody tr th {\n",
       "        vertical-align: top;\n",
       "    }\n",
       "\n",
       "    .dataframe thead th {\n",
       "        text-align: right;\n",
       "    }\n",
       "</style>\n",
       "<table border=\"1\" class=\"dataframe\">\n",
       "  <thead>\n",
       "    <tr style=\"text-align: right;\">\n",
       "      <th></th>\n",
       "      <th>mean_test_score</th>\n",
       "      <th>param_tfidf__ngram_range</th>\n",
       "      <th>param_tfidf__use_idf</th>\n",
       "      <th>param_svm__alpha</th>\n",
       "      <th>param_svm__class_weight</th>\n",
       "    </tr>\n",
       "  </thead>\n",
       "  <tbody>\n",
       "    <tr>\n",
       "      <th>9</th>\n",
       "      <td>0.999991</td>\n",
       "      <td>(1, 1)</td>\n",
       "      <td>False</td>\n",
       "      <td>1e-05</td>\n",
       "      <td>None</td>\n",
       "    </tr>\n",
       "    <tr>\n",
       "      <th>8</th>\n",
       "      <td>0.999991</td>\n",
       "      <td>(1, 1)</td>\n",
       "      <td>True</td>\n",
       "      <td>1e-05</td>\n",
       "      <td>None</td>\n",
       "    </tr>\n",
       "    <tr>\n",
       "      <th>12</th>\n",
       "      <td>0.999991</td>\n",
       "      <td>(1, 1)</td>\n",
       "      <td>True</td>\n",
       "      <td>1e-05</td>\n",
       "      <td>balanced</td>\n",
       "    </tr>\n",
       "    <tr>\n",
       "      <th>11</th>\n",
       "      <td>0.999991</td>\n",
       "      <td>(1, 2)</td>\n",
       "      <td>False</td>\n",
       "      <td>1e-05</td>\n",
       "      <td>None</td>\n",
       "    </tr>\n",
       "    <tr>\n",
       "      <th>13</th>\n",
       "      <td>0.999991</td>\n",
       "      <td>(1, 1)</td>\n",
       "      <td>False</td>\n",
       "      <td>1e-05</td>\n",
       "      <td>balanced</td>\n",
       "    </tr>\n",
       "    <tr>\n",
       "      <th>4</th>\n",
       "      <td>0.999990</td>\n",
       "      <td>(1, 1)</td>\n",
       "      <td>True</td>\n",
       "      <td>0.0001</td>\n",
       "      <td>balanced</td>\n",
       "    </tr>\n",
       "    <tr>\n",
       "      <th>5</th>\n",
       "      <td>0.999990</td>\n",
       "      <td>(1, 1)</td>\n",
       "      <td>False</td>\n",
       "      <td>0.0001</td>\n",
       "      <td>balanced</td>\n",
       "    </tr>\n",
       "    <tr>\n",
       "      <th>10</th>\n",
       "      <td>0.999990</td>\n",
       "      <td>(1, 2)</td>\n",
       "      <td>True</td>\n",
       "      <td>1e-05</td>\n",
       "      <td>None</td>\n",
       "    </tr>\n",
       "    <tr>\n",
       "      <th>15</th>\n",
       "      <td>0.999990</td>\n",
       "      <td>(1, 2)</td>\n",
       "      <td>False</td>\n",
       "      <td>1e-05</td>\n",
       "      <td>balanced</td>\n",
       "    </tr>\n",
       "    <tr>\n",
       "      <th>14</th>\n",
       "      <td>0.999990</td>\n",
       "      <td>(1, 2)</td>\n",
       "      <td>True</td>\n",
       "      <td>1e-05</td>\n",
       "      <td>balanced</td>\n",
       "    </tr>\n",
       "    <tr>\n",
       "      <th>6</th>\n",
       "      <td>0.999990</td>\n",
       "      <td>(1, 2)</td>\n",
       "      <td>True</td>\n",
       "      <td>0.0001</td>\n",
       "      <td>balanced</td>\n",
       "    </tr>\n",
       "    <tr>\n",
       "      <th>1</th>\n",
       "      <td>0.999990</td>\n",
       "      <td>(1, 1)</td>\n",
       "      <td>False</td>\n",
       "      <td>0.0001</td>\n",
       "      <td>None</td>\n",
       "    </tr>\n",
       "    <tr>\n",
       "      <th>3</th>\n",
       "      <td>0.999990</td>\n",
       "      <td>(1, 2)</td>\n",
       "      <td>False</td>\n",
       "      <td>0.0001</td>\n",
       "      <td>None</td>\n",
       "    </tr>\n",
       "    <tr>\n",
       "      <th>7</th>\n",
       "      <td>0.999990</td>\n",
       "      <td>(1, 2)</td>\n",
       "      <td>False</td>\n",
       "      <td>0.0001</td>\n",
       "      <td>balanced</td>\n",
       "    </tr>\n",
       "    <tr>\n",
       "      <th>17</th>\n",
       "      <td>0.999989</td>\n",
       "      <td>(1, 1)</td>\n",
       "      <td>False</td>\n",
       "      <td>1e-06</td>\n",
       "      <td>None</td>\n",
       "    </tr>\n",
       "    <tr>\n",
       "      <th>19</th>\n",
       "      <td>0.999989</td>\n",
       "      <td>(1, 2)</td>\n",
       "      <td>False</td>\n",
       "      <td>1e-06</td>\n",
       "      <td>None</td>\n",
       "    </tr>\n",
       "    <tr>\n",
       "      <th>21</th>\n",
       "      <td>0.999987</td>\n",
       "      <td>(1, 1)</td>\n",
       "      <td>False</td>\n",
       "      <td>1e-06</td>\n",
       "      <td>balanced</td>\n",
       "    </tr>\n",
       "    <tr>\n",
       "      <th>18</th>\n",
       "      <td>0.999986</td>\n",
       "      <td>(1, 2)</td>\n",
       "      <td>True</td>\n",
       "      <td>1e-06</td>\n",
       "      <td>None</td>\n",
       "    </tr>\n",
       "    <tr>\n",
       "      <th>22</th>\n",
       "      <td>0.999986</td>\n",
       "      <td>(1, 2)</td>\n",
       "      <td>True</td>\n",
       "      <td>1e-06</td>\n",
       "      <td>balanced</td>\n",
       "    </tr>\n",
       "    <tr>\n",
       "      <th>2</th>\n",
       "      <td>0.999985</td>\n",
       "      <td>(1, 2)</td>\n",
       "      <td>True</td>\n",
       "      <td>0.0001</td>\n",
       "      <td>None</td>\n",
       "    </tr>\n",
       "    <tr>\n",
       "      <th>23</th>\n",
       "      <td>0.999985</td>\n",
       "      <td>(1, 2)</td>\n",
       "      <td>False</td>\n",
       "      <td>1e-06</td>\n",
       "      <td>balanced</td>\n",
       "    </tr>\n",
       "    <tr>\n",
       "      <th>20</th>\n",
       "      <td>0.999985</td>\n",
       "      <td>(1, 1)</td>\n",
       "      <td>True</td>\n",
       "      <td>1e-06</td>\n",
       "      <td>balanced</td>\n",
       "    </tr>\n",
       "    <tr>\n",
       "      <th>0</th>\n",
       "      <td>0.999984</td>\n",
       "      <td>(1, 1)</td>\n",
       "      <td>True</td>\n",
       "      <td>0.0001</td>\n",
       "      <td>None</td>\n",
       "    </tr>\n",
       "    <tr>\n",
       "      <th>16</th>\n",
       "      <td>0.999984</td>\n",
       "      <td>(1, 1)</td>\n",
       "      <td>True</td>\n",
       "      <td>1e-06</td>\n",
       "      <td>None</td>\n",
       "    </tr>\n",
       "  </tbody>\n",
       "</table>\n",
       "</div>"
      ],
      "text/plain": [
       "    mean_test_score param_tfidf__ngram_range param_tfidf__use_idf  \\\n",
       "9          0.999991                   (1, 1)                False   \n",
       "8          0.999991                   (1, 1)                 True   \n",
       "12         0.999991                   (1, 1)                 True   \n",
       "11         0.999991                   (1, 2)                False   \n",
       "13         0.999991                   (1, 1)                False   \n",
       "4          0.999990                   (1, 1)                 True   \n",
       "5          0.999990                   (1, 1)                False   \n",
       "10         0.999990                   (1, 2)                 True   \n",
       "15         0.999990                   (1, 2)                False   \n",
       "14         0.999990                   (1, 2)                 True   \n",
       "6          0.999990                   (1, 2)                 True   \n",
       "1          0.999990                   (1, 1)                False   \n",
       "3          0.999990                   (1, 2)                False   \n",
       "7          0.999990                   (1, 2)                False   \n",
       "17         0.999989                   (1, 1)                False   \n",
       "19         0.999989                   (1, 2)                False   \n",
       "21         0.999987                   (1, 1)                False   \n",
       "18         0.999986                   (1, 2)                 True   \n",
       "22         0.999986                   (1, 2)                 True   \n",
       "2          0.999985                   (1, 2)                 True   \n",
       "23         0.999985                   (1, 2)                False   \n",
       "20         0.999985                   (1, 1)                 True   \n",
       "0          0.999984                   (1, 1)                 True   \n",
       "16         0.999984                   (1, 1)                 True   \n",
       "\n",
       "   param_svm__alpha param_svm__class_weight  \n",
       "9             1e-05                    None  \n",
       "8             1e-05                    None  \n",
       "12            1e-05                balanced  \n",
       "11            1e-05                    None  \n",
       "13            1e-05                balanced  \n",
       "4            0.0001                balanced  \n",
       "5            0.0001                balanced  \n",
       "10            1e-05                    None  \n",
       "15            1e-05                balanced  \n",
       "14            1e-05                balanced  \n",
       "6            0.0001                balanced  \n",
       "1            0.0001                    None  \n",
       "3            0.0001                    None  \n",
       "7            0.0001                balanced  \n",
       "17            1e-06                    None  \n",
       "19            1e-06                    None  \n",
       "21            1e-06                balanced  \n",
       "18            1e-06                    None  \n",
       "22            1e-06                balanced  \n",
       "2            0.0001                    None  \n",
       "23            1e-06                balanced  \n",
       "20            1e-06                balanced  \n",
       "0            0.0001                    None  \n",
       "16            1e-06                    None  "
      ]
     },
     "execution_count": 70,
     "metadata": {},
     "output_type": "execute_result"
    }
   ],
   "source": [
    "pd.DataFrame(gs_svm.cv_results_)[[\"mean_test_score\",\n",
    "                                  \"param_tfidf__ngram_range\",\n",
    "                                  \"param_tfidf__use_idf\",\n",
    "                                  \"param_svm__alpha\",\n",
    "                                  \"param_svm__class_weight\"]].sort_values(by=[\"mean_test_score\"], ascending=False)"
   ]
  },
  {
   "cell_type": "code",
   "execution_count": 15,
   "metadata": {},
   "outputs": [
    {
     "name": "stdout",
     "output_type": "stream",
     "text": [
      "cross_val_score =  0.9999906322490453\n",
      "label1_score =  0.9968423469973591\n",
      "label0_score =  0.9949238578680203\n",
      "squared and multiplied 0.9958826404556033\n"
     ]
    }
   ],
   "source": [
    "pipeline_cv_svm = Pipeline([('cv', CountVectorizer(ngram_range=(1, 1))),\n",
    "                            ('svm', SGDClassifier(loss='hinge',\n",
    "                                                  penalty='l2',\n",
    "                                                  alpha=0.0001,\n",
    "                                                  random_state=666,\n",
    "                                                  max_iter=15,\n",
    "                                                  class_weight=None)),\n",
    "                           ])\n",
    "\n",
    "print('cross_val_score = ', cross_val_score(pipeline_cv_svm, X_train, y_train.apply(lambda x: 1 if x=='True' else 0),\n",
    "                      scoring=\"average_precision\", cv=5, n_jobs=-1).mean())\n",
    "\n",
    "pipeline_cv_svm.fit(X_train, y_train)\n",
    "predictionSVM = pipeline_cv_svm.predict(X_test)\n",
    "label1_score = precision_score(y_test, predictionSVM, pos_label='True')\n",
    "label0_score = precision_score(y_test, predictionSVM, pos_label='False')\n",
    "print('label1_score = ', label1_score)\n",
    "print('label0_score = ', label0_score)\n",
    "print('squared and multiplied', sqrt(label1_score*label0_score))"
   ]
  },
  {
   "cell_type": "code",
   "execution_count": 9,
   "metadata": {},
   "outputs": [
    {
     "name": "stdout",
     "output_type": "stream",
     "text": [
      "cross_val_score =  0.9999907595056274\n",
      "label1_score =  0.997128252254322\n",
      "label0_score =  0.9932716568544996\n",
      "squared and multiplied 0.9951980864195238\n"
     ]
    }
   ],
   "source": [
    "pipeline_tfidf_svm = Pipeline([('tfidf', TfidfVectorizer(ngram_range=(1, 1),\n",
    "                                                         use_idf=True)),\n",
    "                               ('svm', SGDClassifier(loss='hinge', \n",
    "                                                     penalty='l2', \n",
    "                                                     alpha=0.00001,\n",
    "                                                     random_state=666, \n",
    "                                                     max_iter=15, \n",
    "                                                     class_weight=None)),\n",
    "                               ])\n",
    "\n",
    "\n",
    "print('cross_val_score = ', cross_val_score(pipeline_tfidf_svm, X_train, y_train.apply(lambda x: 1 if x=='True' else 0),\n",
    "                scoring=\"average_precision\", cv=5, n_jobs=1).mean())\n",
    "\n",
    "\n",
    "pipeline_tfidf_svm.fit(X_train, y_train)\n",
    "predictionSVM = pipeline_tfidf_svm.predict(X_test)\n",
    "label1_score = precision_score(y_test, predictionSVM, pos_label='True')\n",
    "label0_score = precision_score(y_test, predictionSVM, pos_label='False')\n",
    "print('label1_score = ', label1_score)\n",
    "print('label0_score = ', label0_score)\n",
    "print('squared and multiplied', sqrt(label1_score*label0_score))"
   ]
  },
  {
   "cell_type": "code",
   "execution_count": null,
   "metadata": {},
   "outputs": [],
   "source": []
  },
  {
   "cell_type": "code",
   "execution_count": 143,
   "metadata": {},
   "outputs": [],
   "source": []
  },
  {
   "cell_type": "code",
   "execution_count": null,
   "metadata": {},
   "outputs": [],
   "source": []
  },
  {
   "cell_type": "code",
   "execution_count": 10,
   "metadata": {},
   "outputs": [],
   "source": [
    "from collections import defaultdict\n",
    "from math import log\n",
    "\n",
    "class NBClassifier(object):\n",
    "    def __init__(self, alpha=10**(-7)):\n",
    "        self.alpha = alpha \n",
    "        self.classes = defaultdict(lambda:.0)\n",
    "        self.prob = defaultdict(lambda:.0)\n",
    "        \n",
    "    def fit(self, data_set):\n",
    "        for feats, label in data_set:\n",
    "            self.classes[label] += 1\n",
    "            for feat in feats:\n",
    "                self.prob[label, feat] += 1\n",
    "                \n",
    "        for label, feat in self.prob:   \n",
    "            self.prob[label, feat] /= self.classes[label]\n",
    "        for cl in self.classes:\n",
    "            self.classes[cl] /= len(data_set)\n",
    "        return self\n",
    "    \n",
    "    def get_class(self, feats):\n",
    "        def get_log_prob(cl):\n",
    "            return -log(self.classes[cl]) + \\\n",
    "                   sum(-log(self.prob.get((cl,feat), self.alpha)) for feat in feats)\n",
    "        return min(self.classes.keys(), key=get_log_prob)\n",
    "    \n",
    "    def predict(self, data_to_predict):\n",
    "        return [self.get_class(nltk.word_tokenize(words)) for words in data_to_predict]"
   ]
  },
  {
   "cell_type": "code",
   "execution_count": 11,
   "metadata": {},
   "outputs": [
    {
     "name": "stdout",
     "output_type": "stream",
     "text": [
      "label1_score =  0.9978153386225135\n",
      "label0_score =  0.9892205638474295\n",
      "squared and multiplied 0.9935086571780724\n"
     ]
    }
   ],
   "source": [
    "data_to_fit = [(nltk.word_tokenize(words), label) for words, label in zip(X_train, y_train)]\n",
    "\n",
    "NBCpredicted = NBClassifier().fit(data_to_fit).predict(X_test)\n",
    "label1_score = precision_score(y_test, NBCpredicted, pos_label='True')\n",
    "label0_score = precision_score(y_test, NBCpredicted, pos_label='False')\n",
    "print('label1_score = ', label1_score)\n",
    "print('label0_score = ', label0_score)\n",
    "print('squared and multiplied', sqrt(label1_score*label0_score))"
   ]
  },
  {
   "cell_type": "code",
   "execution_count": null,
   "metadata": {},
   "outputs": [],
   "source": []
  },
  {
   "cell_type": "code",
   "execution_count": 75,
   "metadata": {},
   "outputs": [
    {
     "name": "stdout",
     "output_type": "stream",
     "text": [
      "label1_score =  0.997127592347906\n",
      "label0_score =  0.9899413243922883\n",
      "squared and multiplied 0.9935279610343032\n"
     ]
    }
   ],
   "source": [
    "from nltk.stem.snowball import RussianStemmer\n",
    "\n",
    "stemmer = RussianStemmer()\n",
    "def stem_all_words(name: str):\n",
    "    return \" \".join([stemmer.stem(token) for token in name.split()])\n",
    "\n",
    "X_train = X_train.apply(stem_all_words)\n",
    "X_test = X_test.apply(stem_all_words)\n",
    "\n",
    "data_to_fit = [(nltk.word_tokenize(words), label) for words, label in zip(X_train, y_train)]\n",
    "\n",
    "NBCpredicted = NBClassifier().fit(data_to_fit).predict(X_test)\n",
    "label1_score = precision_score(y_test, NBCpredicted, pos_label='True')\n",
    "label0_score = precision_score(y_test, NBCpredicted, pos_label='False')\n",
    "print('label1_score = ', label1_score)\n",
    "print('label0_score = ', label0_score)\n",
    "print('squared and multiplied', sqrt(label1_score*label0_score))"
   ]
  },
  {
   "cell_type": "code",
   "execution_count": null,
   "metadata": {},
   "outputs": [],
   "source": []
  },
  {
   "cell_type": "code",
   "execution_count": null,
   "metadata": {},
   "outputs": [],
   "source": []
  },
  {
   "cell_type": "code",
   "execution_count": 61,
   "metadata": {},
   "outputs": [],
   "source": [
    "unknown_df = pd.read_csv('./test.csv', encoding='utf-8')\n",
    "for i in range(2,6):\n",
    "    col = 'Unnamed: {}'.format(i)\n",
    "    unknown_df['name'] += unknown_df[col].apply(lambda x: '' if str(x) == 'nan' else str(x))\n",
    "    \n",
    "unknown_names = unknown_df['name'].apply(lambda x: remove_punctuation(str(x).lower()))"
   ]
  },
  {
   "cell_type": "code",
   "execution_count": 92,
   "metadata": {
    "scrolled": true
   },
   "outputs": [],
   "source": [
    "NBCpredicted = NBClassifier().fit(data_to_fit).predict(unknown_names)\n",
    "pd.DataFrame({'name': unknown_df.name,'prediction': NBCpredicted}).to_csv('prediction.csv', index=False)"
   ]
  },
  {
   "cell_type": "code",
   "execution_count": null,
   "metadata": {},
   "outputs": [],
   "source": []
  },
  {
   "cell_type": "code",
   "execution_count": 90,
   "metadata": {},
   "outputs": [],
   "source": [
    "SVMpred = pipeline_cv_svm.predict(unknown_df.name.apply(lambda x: str(x).lower()))\n",
    "SVMpred_tfidf =  pipeline_tfidf_svm.predict(unknown_df.name.apply(lambda x: str(x).lower()))"
   ]
  },
  {
   "cell_type": "code",
   "execution_count": 93,
   "metadata": {},
   "outputs": [],
   "source": [
    "pd.DataFrame({'name': unknown_df.name,'prediction': SVMpred_tfidf}).to_csv('prediction_svm.csv', index=False)"
   ]
  },
  {
   "cell_type": "code",
   "execution_count": null,
   "metadata": {},
   "outputs": [],
   "source": []
  },
  {
   "cell_type": "code",
   "execution_count": null,
   "metadata": {},
   "outputs": [],
   "source": []
  },
  {
   "cell_type": "code",
   "execution_count": 159,
   "metadata": {},
   "outputs": [
    {
     "name": "stdout",
     "output_type": "stream",
     "text": [
      "label1_score =  0.9967243261881501\n",
      "label0_score =  0.9791492910758965\n",
      "squared and multiplied 0.9878977261767676\n"
     ]
    }
   ],
   "source": [
    "from sklearn.naive_bayes import MultinomialNB\n",
    "\n",
    "p = Pipeline([\n",
    "        ('vect', CountVectorizer(ngram_range=(1, 1))),\n",
    "        ('tfidf', TfidfTransformer()),\n",
    "        ('nb', MultinomialNB(alpha=0.0001))\n",
    "    ])\n",
    "\n",
    "p.fit(X_train, y_train)\n",
    "predicted = p.predict(X_test)\n",
    "label1_score = precision_score(y_test, predicted, pos_label='True')\n",
    "label0_score = precision_score(y_test, predicted, pos_label='False')\n",
    "print('label1_score = ', label1_score)\n",
    "print('label0_score = ', label0_score)\n",
    "print('squared and multiplied', sqrt(label1_score*label0_score))"
   ]
  },
  {
   "cell_type": "code",
   "execution_count": null,
   "metadata": {
    "scrolled": false
   },
   "outputs": [],
   "source": []
  },
  {
   "cell_type": "code",
   "execution_count": 6,
   "metadata": {},
   "outputs": [
    {
     "name": "stdout",
     "output_type": "stream",
     "text": [
      "label1_score =  0.9952976258745269\n",
      "label0_score =  0.9888123924268503\n",
      "squared and multiplied 0.9920497097513586\n"
     ]
    }
   ],
   "source": [
    "from sklearn.feature_extraction.text import TfidfTransformer\n",
    "from sklearn.ensemble import RandomForestClassifier\n",
    "p = Pipeline([\n",
    "        ('vect', CountVectorizer(ngram_range=(1, 1))),\n",
    "        ('tfidf', TfidfTransformer()),\n",
    "        ('clf', RandomForestClassifier(n_estimators=1000))\n",
    "    ])\n",
    "\n",
    "p.fit(X_train, y_train)\n",
    "predicted = p.predict(X_test)\n",
    "label1_score = precision_score(y_test, predicted, pos_label='True')\n",
    "label0_score = precision_score(y_test, predicted, pos_label='False')\n",
    "print('label1_score = ', label1_score)\n",
    "print('label0_score = ', label0_score)\n",
    "print('squared and multiplied', sqrt(label1_score*label0_score))"
   ]
  },
  {
   "cell_type": "code",
   "execution_count": null,
   "metadata": {},
   "outputs": [],
   "source": []
  },
  {
   "cell_type": "code",
   "execution_count": null,
   "metadata": {},
   "outputs": [],
   "source": []
  },
  {
   "cell_type": "code",
   "execution_count": null,
   "metadata": {},
   "outputs": [],
   "source": []
  },
  {
   "cell_type": "code",
   "execution_count": null,
   "metadata": {},
   "outputs": [],
   "source": []
  },
  {
   "cell_type": "code",
   "execution_count": null,
   "metadata": {},
   "outputs": [],
   "source": []
  },
  {
   "cell_type": "code",
   "execution_count": null,
   "metadata": {},
   "outputs": [],
   "source": []
  }
 ],
 "metadata": {
  "kernelspec": {
   "display_name": "Python 3",
   "language": "python",
   "name": "python3"
  },
  "language_info": {
   "codemirror_mode": {
    "name": "ipython",
    "version": 3
   },
   "file_extension": ".py",
   "mimetype": "text/x-python",
   "name": "python",
   "nbconvert_exporter": "python",
   "pygments_lexer": "ipython3",
   "version": "3.6.5"
  }
 },
 "nbformat": 4,
 "nbformat_minor": 2
}
